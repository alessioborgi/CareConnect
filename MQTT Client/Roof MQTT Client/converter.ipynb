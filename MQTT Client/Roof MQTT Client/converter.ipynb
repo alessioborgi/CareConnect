{
 "cells": [
  {
   "cell_type": "code",
   "execution_count": 4,
   "metadata": {},
   "outputs": [],
   "source": [
    "#parser for roof data\n",
    "import pandas as pd\n",
    "\n",
    "# Load the CSV file\n",
    "file_path = 'data/data.csv'\n",
    "df = pd.read_csv(file_path)\n",
    "\n",
    "# Group the data by timestamp, sensor, measurement, and unit, summing the values\n",
    "grouped_df = df.groupby(['timestamp_utc', 'sensor_sn', 'measurement', 'units']).agg({\n",
    "    'value': 'sum'\n",
    "}).reset_index()\n",
    "\n",
    "# Pivot the data so that each timestamp has measurements as columns and values as rows\n",
    "pivot_df = grouped_df.pivot_table(\n",
    "    index=['timestamp_utc', 'sensor_sn'],\n",
    "    columns='measurement',\n",
    "    values='value'\n",
    ").reset_index()\n",
    "\n",
    "# Rename columns to include units in the column names\n",
    "for measurement in pivot_df.columns[2:]:\n",
    "    unit = grouped_df.loc[grouped_df['measurement'] == measurement, 'units'].iloc[0]\n",
    "    pivot_df.rename(columns={measurement: f'{measurement} ({unit})'}, inplace=True)\n",
    "\n",
    "# Save the pivoted data to a new CSV file\n",
    "pivot_df.to_csv('data/pivoted_data.csv', index=False)\n",
    "\n"
   ]
  }
 ],
 "metadata": {
  "kernelspec": {
   "display_name": "Python 3",
   "language": "python",
   "name": "python3"
  },
  "language_info": {
   "codemirror_mode": {
    "name": "ipython",
    "version": 3
   },
   "file_extension": ".py",
   "mimetype": "text/x-python",
   "name": "python",
   "nbconvert_exporter": "python",
   "pygments_lexer": "ipython3",
   "version": "3.12.4"
  }
 },
 "nbformat": 4,
 "nbformat_minor": 2
}
