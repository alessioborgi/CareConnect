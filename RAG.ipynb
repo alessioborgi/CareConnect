{
 "cells": [
  {
   "cell_type": "markdown",
   "id": "b260330d",
   "metadata": {},
   "source": [
    "# SUPERSMARTHOME\n"
   ]
  },
  {
   "cell_type": "markdown",
   "id": "d04dcc14",
   "metadata": {},
   "source": [
    "### 0: INSTALLING LIBRARIES"
   ]
  },
  {
   "cell_type": "code",
   "execution_count": 2,
   "id": "3b21a626",
   "metadata": {},
   "outputs": [
    {
     "name": "stdout",
     "output_type": "stream",
     "text": [
      "Requirement already satisfied: llama_index in /Users/alessioborgi/.pyenv/versions/3.11.4/lib/python3.11/site-packages (0.11.2)\n",
      "Requirement already satisfied: chroma in /Users/alessioborgi/.pyenv/versions/3.11.4/lib/python3.11/site-packages (0.2.0)\n",
      "Requirement already satisfied: chromadb in /Users/alessioborgi/.pyenv/versions/3.11.4/lib/python3.11/site-packages (0.5.5)\n",
      "Requirement already satisfied: openai in /Users/alessioborgi/.pyenv/versions/3.11.4/lib/python3.11/site-packages (1.42.0)\n",
      "Requirement already satisfied: logging in /Users/alessioborgi/.pyenv/versions/3.11.4/lib/python3.11/site-packages (0.4.9.6)\n",
      "Requirement already satisfied: llama-index-agent-openai<0.4.0,>=0.3.0 in /Users/alessioborgi/.pyenv/versions/3.11.4/lib/python3.11/site-packages (from llama_index) (0.3.0)\n",
      "Requirement already satisfied: llama-index-cli<0.4.0,>=0.3.0 in /Users/alessioborgi/.pyenv/versions/3.11.4/lib/python3.11/site-packages (from llama_index) (0.3.0)\n",
      "Requirement already satisfied: llama-index-core<0.12.0,>=0.11.2 in /Users/alessioborgi/.pyenv/versions/3.11.4/lib/python3.11/site-packages (from llama_index) (0.11.2)\n",
      "Requirement already satisfied: llama-index-embeddings-openai<0.3.0,>=0.2.0 in /Users/alessioborgi/.pyenv/versions/3.11.4/lib/python3.11/site-packages (from llama_index) (0.2.3)\n",
      "Requirement already satisfied: llama-index-indices-managed-llama-cloud>=0.3.0 in /Users/alessioborgi/.pyenv/versions/3.11.4/lib/python3.11/site-packages (from llama_index) (0.3.0)\n",
      "Requirement already satisfied: llama-index-legacy<0.10.0,>=0.9.48 in /Users/alessioborgi/.pyenv/versions/3.11.4/lib/python3.11/site-packages (from llama_index) (0.9.48.post3)\n",
      "Requirement already satisfied: llama-index-llms-openai<0.3.0,>=0.2.0 in /Users/alessioborgi/.pyenv/versions/3.11.4/lib/python3.11/site-packages (from llama_index) (0.2.0)\n",
      "Requirement already satisfied: llama-index-multi-modal-llms-openai<0.3.0,>=0.2.0 in /Users/alessioborgi/.pyenv/versions/3.11.4/lib/python3.11/site-packages (from llama_index) (0.2.0)\n",
      "Requirement already satisfied: llama-index-program-openai<0.3.0,>=0.2.0 in /Users/alessioborgi/.pyenv/versions/3.11.4/lib/python3.11/site-packages (from llama_index) (0.2.0)\n",
      "Requirement already satisfied: llama-index-question-gen-openai<0.3.0,>=0.2.0 in /Users/alessioborgi/.pyenv/versions/3.11.4/lib/python3.11/site-packages (from llama_index) (0.2.0)\n",
      "Requirement already satisfied: llama-index-readers-file<0.3.0,>=0.2.0 in /Users/alessioborgi/.pyenv/versions/3.11.4/lib/python3.11/site-packages (from llama_index) (0.2.0)\n",
      "Requirement already satisfied: llama-index-readers-llama-parse>=0.2.0 in /Users/alessioborgi/.pyenv/versions/3.11.4/lib/python3.11/site-packages (from llama_index) (0.2.0)\n",
      "Requirement already satisfied: nltk>3.8.1 in /Users/alessioborgi/.pyenv/versions/3.11.4/lib/python3.11/site-packages (from llama_index) (3.9.1)\n",
      "Requirement already satisfied: build>=1.0.3 in /Users/alessioborgi/.pyenv/versions/3.11.4/lib/python3.11/site-packages (from chromadb) (1.2.1)\n",
      "Requirement already satisfied: pydantic>=1.9 in /Users/alessioborgi/.pyenv/versions/3.11.4/lib/python3.11/site-packages (from chromadb) (2.8.2)\n",
      "Requirement already satisfied: chroma-hnswlib==0.7.6 in /Users/alessioborgi/.pyenv/versions/3.11.4/lib/python3.11/site-packages (from chromadb) (0.7.6)\n",
      "Requirement already satisfied: fastapi>=0.95.2 in /Users/alessioborgi/.pyenv/versions/3.11.4/lib/python3.11/site-packages (from chromadb) (0.112.2)\n",
      "Requirement already satisfied: uvicorn[standard]>=0.18.3 in /Users/alessioborgi/.pyenv/versions/3.11.4/lib/python3.11/site-packages (from chromadb) (0.30.6)\n",
      "Requirement already satisfied: numpy<2.0.0,>=1.22.5 in /Users/alessioborgi/.pyenv/versions/3.11.4/lib/python3.11/site-packages (from chromadb) (1.26.3)\n",
      "Requirement already satisfied: posthog>=2.4.0 in /Users/alessioborgi/.pyenv/versions/3.11.4/lib/python3.11/site-packages (from chromadb) (3.6.0)\n",
      "Requirement already satisfied: typing-extensions>=4.5.0 in /Users/alessioborgi/.pyenv/versions/3.11.4/lib/python3.11/site-packages (from chromadb) (4.12.2)\n",
      "Requirement already satisfied: onnxruntime>=1.14.1 in /Users/alessioborgi/.pyenv/versions/3.11.4/lib/python3.11/site-packages (from chromadb) (1.19.0)\n",
      "Requirement already satisfied: opentelemetry-api>=1.2.0 in /Users/alessioborgi/.pyenv/versions/3.11.4/lib/python3.11/site-packages (from chromadb) (1.27.0)\n",
      "Requirement already satisfied: opentelemetry-exporter-otlp-proto-grpc>=1.2.0 in /Users/alessioborgi/.pyenv/versions/3.11.4/lib/python3.11/site-packages (from chromadb) (1.27.0)\n",
      "Requirement already satisfied: opentelemetry-instrumentation-fastapi>=0.41b0 in /Users/alessioborgi/.pyenv/versions/3.11.4/lib/python3.11/site-packages (from chromadb) (0.48b0)\n",
      "Requirement already satisfied: opentelemetry-sdk>=1.2.0 in /Users/alessioborgi/.pyenv/versions/3.11.4/lib/python3.11/site-packages (from chromadb) (1.27.0)\n",
      "Requirement already satisfied: tokenizers>=0.13.2 in /Users/alessioborgi/.pyenv/versions/3.11.4/lib/python3.11/site-packages (from chromadb) (0.20.0)\n",
      "Requirement already satisfied: pypika>=0.48.9 in /Users/alessioborgi/.pyenv/versions/3.11.4/lib/python3.11/site-packages (from chromadb) (0.48.9)\n",
      "Requirement already satisfied: tqdm>=4.65.0 in /Users/alessioborgi/.pyenv/versions/3.11.4/lib/python3.11/site-packages (from chromadb) (4.66.5)\n",
      "Requirement already satisfied: overrides>=7.3.1 in /Users/alessioborgi/.pyenv/versions/3.11.4/lib/python3.11/site-packages (from chromadb) (7.7.0)\n",
      "Requirement already satisfied: importlib-resources in /Users/alessioborgi/.pyenv/versions/3.11.4/lib/python3.11/site-packages (from chromadb) (6.4.4)\n",
      "Requirement already satisfied: grpcio>=1.58.0 in /Users/alessioborgi/.pyenv/versions/3.11.4/lib/python3.11/site-packages (from chromadb) (1.66.1)\n",
      "Requirement already satisfied: bcrypt>=4.0.1 in /Users/alessioborgi/.pyenv/versions/3.11.4/lib/python3.11/site-packages (from chromadb) (4.2.0)\n",
      "Requirement already satisfied: typer>=0.9.0 in /Users/alessioborgi/.pyenv/versions/3.11.4/lib/python3.11/site-packages (from chromadb) (0.12.5)\n",
      "Requirement already satisfied: kubernetes>=28.1.0 in /Users/alessioborgi/.pyenv/versions/3.11.4/lib/python3.11/site-packages (from chromadb) (30.1.0)\n",
      "Requirement already satisfied: tenacity>=8.2.3 in /Users/alessioborgi/.pyenv/versions/3.11.4/lib/python3.11/site-packages (from chromadb) (8.5.0)\n",
      "Requirement already satisfied: PyYAML>=6.0.0 in /Users/alessioborgi/.pyenv/versions/3.11.4/lib/python3.11/site-packages (from chromadb) (6.0.1)\n",
      "Requirement already satisfied: mmh3>=4.0.1 in /Users/alessioborgi/.pyenv/versions/3.11.4/lib/python3.11/site-packages (from chromadb) (4.1.0)\n",
      "Requirement already satisfied: orjson>=3.9.12 in /Users/alessioborgi/.pyenv/versions/3.11.4/lib/python3.11/site-packages (from chromadb) (3.10.7)\n",
      "Requirement already satisfied: httpx>=0.27.0 in /Users/alessioborgi/.pyenv/versions/3.11.4/lib/python3.11/site-packages (from chromadb) (0.27.2)\n",
      "Requirement already satisfied: anyio<5,>=3.5.0 in /Users/alessioborgi/.pyenv/versions/3.11.4/lib/python3.11/site-packages (from openai) (4.4.0)\n",
      "Requirement already satisfied: distro<2,>=1.7.0 in /Users/alessioborgi/.pyenv/versions/3.11.4/lib/python3.11/site-packages (from openai) (1.9.0)\n",
      "Requirement already satisfied: jiter<1,>=0.4.0 in /Users/alessioborgi/.pyenv/versions/3.11.4/lib/python3.11/site-packages (from openai) (0.5.0)\n",
      "Requirement already satisfied: sniffio in /Users/alessioborgi/.pyenv/versions/3.11.4/lib/python3.11/site-packages (from openai) (1.3.1)\n",
      "Requirement already satisfied: idna>=2.8 in /Users/alessioborgi/.pyenv/versions/3.11.4/lib/python3.11/site-packages (from anyio<5,>=3.5.0->openai) (3.8)\n",
      "Requirement already satisfied: packaging>=19.1 in /Users/alessioborgi/.pyenv/versions/3.11.4/lib/python3.11/site-packages (from build>=1.0.3->chromadb) (23.2)\n",
      "Requirement already satisfied: pyproject_hooks in /Users/alessioborgi/.pyenv/versions/3.11.4/lib/python3.11/site-packages (from build>=1.0.3->chromadb) (1.1.0)\n",
      "Requirement already satisfied: starlette<0.39.0,>=0.37.2 in /Users/alessioborgi/.pyenv/versions/3.11.4/lib/python3.11/site-packages (from fastapi>=0.95.2->chromadb) (0.38.2)\n",
      "Requirement already satisfied: certifi in /Users/alessioborgi/.pyenv/versions/3.11.4/lib/python3.11/site-packages (from httpx>=0.27.0->chromadb) (2024.7.4)\n",
      "Requirement already satisfied: httpcore==1.* in /Users/alessioborgi/.pyenv/versions/3.11.4/lib/python3.11/site-packages (from httpx>=0.27.0->chromadb) (1.0.5)\n",
      "Requirement already satisfied: h11<0.15,>=0.13 in /Users/alessioborgi/.pyenv/versions/3.11.4/lib/python3.11/site-packages (from httpcore==1.*->httpx>=0.27.0->chromadb) (0.14.0)\n",
      "Requirement already satisfied: six>=1.9.0 in /Users/alessioborgi/.pyenv/versions/3.11.4/lib/python3.11/site-packages (from kubernetes>=28.1.0->chromadb) (1.16.0)\n",
      "Requirement already satisfied: python-dateutil>=2.5.3 in /Users/alessioborgi/.pyenv/versions/3.11.4/lib/python3.11/site-packages (from kubernetes>=28.1.0->chromadb) (2.8.2)\n",
      "Requirement already satisfied: google-auth>=1.0.1 in /Users/alessioborgi/.pyenv/versions/3.11.4/lib/python3.11/site-packages (from kubernetes>=28.1.0->chromadb) (2.34.0)\n",
      "Requirement already satisfied: websocket-client!=0.40.0,!=0.41.*,!=0.42.*,>=0.32.0 in /Users/alessioborgi/.pyenv/versions/3.11.4/lib/python3.11/site-packages (from kubernetes>=28.1.0->chromadb) (1.8.0)\n",
      "Requirement already satisfied: requests in /Users/alessioborgi/.pyenv/versions/3.11.4/lib/python3.11/site-packages (from kubernetes>=28.1.0->chromadb) (2.32.3)\n",
      "Requirement already satisfied: requests-oauthlib in /Users/alessioborgi/.pyenv/versions/3.11.4/lib/python3.11/site-packages (from kubernetes>=28.1.0->chromadb) (2.0.0)\n",
      "Requirement already satisfied: oauthlib>=3.2.2 in /Users/alessioborgi/.pyenv/versions/3.11.4/lib/python3.11/site-packages (from kubernetes>=28.1.0->chromadb) (3.2.2)\n",
      "Requirement already satisfied: urllib3>=1.24.2 in /Users/alessioborgi/.pyenv/versions/3.11.4/lib/python3.11/site-packages (from kubernetes>=28.1.0->chromadb) (2.2.2)\n",
      "Requirement already satisfied: SQLAlchemy[asyncio]>=1.4.49 in /Users/alessioborgi/.pyenv/versions/3.11.4/lib/python3.11/site-packages (from llama-index-core<0.12.0,>=0.11.2->llama_index) (2.0.32)\n",
      "Requirement already satisfied: aiohttp<4.0.0,>=3.8.6 in /Users/alessioborgi/.pyenv/versions/3.11.4/lib/python3.11/site-packages (from llama-index-core<0.12.0,>=0.11.2->llama_index) (3.10.5)\n",
      "Requirement already satisfied: dataclasses-json in /Users/alessioborgi/.pyenv/versions/3.11.4/lib/python3.11/site-packages (from llama-index-core<0.12.0,>=0.11.2->llama_index) (0.6.7)\n",
      "Requirement already satisfied: deprecated>=1.2.9.3 in /Users/alessioborgi/.pyenv/versions/3.11.4/lib/python3.11/site-packages (from llama-index-core<0.12.0,>=0.11.2->llama_index) (1.2.14)\n",
      "Requirement already satisfied: dirtyjson<2.0.0,>=1.0.8 in /Users/alessioborgi/.pyenv/versions/3.11.4/lib/python3.11/site-packages (from llama-index-core<0.12.0,>=0.11.2->llama_index) (1.0.8)\n",
      "Requirement already satisfied: fsspec>=2023.5.0 in /Users/alessioborgi/.pyenv/versions/3.11.4/lib/python3.11/site-packages (from llama-index-core<0.12.0,>=0.11.2->llama_index) (2024.6.1)\n",
      "Requirement already satisfied: nest-asyncio<2.0.0,>=1.5.8 in /Users/alessioborgi/.pyenv/versions/3.11.4/lib/python3.11/site-packages (from llama-index-core<0.12.0,>=0.11.2->llama_index) (1.6.0)\n",
      "Requirement already satisfied: networkx>=3.0 in /Users/alessioborgi/.pyenv/versions/3.11.4/lib/python3.11/site-packages (from llama-index-core<0.12.0,>=0.11.2->llama_index) (3.3)\n",
      "Requirement already satisfied: pillow>=9.0.0 in /Users/alessioborgi/.pyenv/versions/3.11.4/lib/python3.11/site-packages (from llama-index-core<0.12.0,>=0.11.2->llama_index) (10.3.0)\n",
      "Requirement already satisfied: tiktoken>=0.3.3 in /Users/alessioborgi/.pyenv/versions/3.11.4/lib/python3.11/site-packages (from llama-index-core<0.12.0,>=0.11.2->llama_index) (0.7.0)\n",
      "Requirement already satisfied: typing-inspect>=0.8.0 in /Users/alessioborgi/.pyenv/versions/3.11.4/lib/python3.11/site-packages (from llama-index-core<0.12.0,>=0.11.2->llama_index) (0.9.0)\n",
      "Requirement already satisfied: wrapt in /Users/alessioborgi/.pyenv/versions/3.11.4/lib/python3.11/site-packages (from llama-index-core<0.12.0,>=0.11.2->llama_index) (1.16.0)\n",
      "Requirement already satisfied: llama-cloud>=0.0.11 in /Users/alessioborgi/.pyenv/versions/3.11.4/lib/python3.11/site-packages (from llama-index-indices-managed-llama-cloud>=0.3.0->llama_index) (0.0.15)\n",
      "Requirement already satisfied: pandas in /Users/alessioborgi/.pyenv/versions/3.11.4/lib/python3.11/site-packages (from llama-index-legacy<0.10.0,>=0.9.48->llama_index) (2.2.2)\n",
      "Requirement already satisfied: beautifulsoup4<5.0.0,>=4.12.3 in /Users/alessioborgi/.pyenv/versions/3.11.4/lib/python3.11/site-packages (from llama-index-readers-file<0.3.0,>=0.2.0->llama_index) (4.12.3)\n",
      "Requirement already satisfied: pypdf<5.0.0,>=4.0.1 in /Users/alessioborgi/.pyenv/versions/3.11.4/lib/python3.11/site-packages (from llama-index-readers-file<0.3.0,>=0.2.0->llama_index) (4.3.1)\n",
      "Requirement already satisfied: striprtf<0.0.27,>=0.0.26 in /Users/alessioborgi/.pyenv/versions/3.11.4/lib/python3.11/site-packages (from llama-index-readers-file<0.3.0,>=0.2.0->llama_index) (0.0.26)\n",
      "Requirement already satisfied: llama-parse>=0.4.0 in /Users/alessioborgi/.pyenv/versions/3.11.4/lib/python3.11/site-packages (from llama-index-readers-llama-parse>=0.2.0->llama_index) (0.5.1)\n",
      "Requirement already satisfied: click in /Users/alessioborgi/.pyenv/versions/3.11.4/lib/python3.11/site-packages (from nltk>3.8.1->llama_index) (8.1.7)\n",
      "Requirement already satisfied: joblib in /Users/alessioborgi/.pyenv/versions/3.11.4/lib/python3.11/site-packages (from nltk>3.8.1->llama_index) (1.4.2)\n",
      "Requirement already satisfied: regex>=2021.8.3 in /Users/alessioborgi/.pyenv/versions/3.11.4/lib/python3.11/site-packages (from nltk>3.8.1->llama_index) (2024.7.24)\n",
      "Requirement already satisfied: coloredlogs in /Users/alessioborgi/.pyenv/versions/3.11.4/lib/python3.11/site-packages (from onnxruntime>=1.14.1->chromadb) (15.0.1)\n",
      "Requirement already satisfied: flatbuffers in /Users/alessioborgi/.pyenv/versions/3.11.4/lib/python3.11/site-packages (from onnxruntime>=1.14.1->chromadb) (24.3.25)\n",
      "Requirement already satisfied: protobuf in /Users/alessioborgi/.pyenv/versions/3.11.4/lib/python3.11/site-packages (from onnxruntime>=1.14.1->chromadb) (4.25.4)\n",
      "Requirement already satisfied: sympy in /Users/alessioborgi/.pyenv/versions/3.11.4/lib/python3.11/site-packages (from onnxruntime>=1.14.1->chromadb) (1.13.2)\n",
      "Requirement already satisfied: importlib-metadata<=8.4.0,>=6.0 in /Users/alessioborgi/.pyenv/versions/3.11.4/lib/python3.11/site-packages (from opentelemetry-api>=1.2.0->chromadb) (8.4.0)\n",
      "Requirement already satisfied: googleapis-common-protos~=1.52 in /Users/alessioborgi/.pyenv/versions/3.11.4/lib/python3.11/site-packages (from opentelemetry-exporter-otlp-proto-grpc>=1.2.0->chromadb) (1.65.0)\n",
      "Requirement already satisfied: opentelemetry-exporter-otlp-proto-common==1.27.0 in /Users/alessioborgi/.pyenv/versions/3.11.4/lib/python3.11/site-packages (from opentelemetry-exporter-otlp-proto-grpc>=1.2.0->chromadb) (1.27.0)\n",
      "Requirement already satisfied: opentelemetry-proto==1.27.0 in /Users/alessioborgi/.pyenv/versions/3.11.4/lib/python3.11/site-packages (from opentelemetry-exporter-otlp-proto-grpc>=1.2.0->chromadb) (1.27.0)\n",
      "Requirement already satisfied: opentelemetry-instrumentation-asgi==0.48b0 in /Users/alessioborgi/.pyenv/versions/3.11.4/lib/python3.11/site-packages (from opentelemetry-instrumentation-fastapi>=0.41b0->chromadb) (0.48b0)\n",
      "Requirement already satisfied: opentelemetry-instrumentation==0.48b0 in /Users/alessioborgi/.pyenv/versions/3.11.4/lib/python3.11/site-packages (from opentelemetry-instrumentation-fastapi>=0.41b0->chromadb) (0.48b0)\n",
      "Requirement already satisfied: opentelemetry-semantic-conventions==0.48b0 in /Users/alessioborgi/.pyenv/versions/3.11.4/lib/python3.11/site-packages (from opentelemetry-instrumentation-fastapi>=0.41b0->chromadb) (0.48b0)\n",
      "Requirement already satisfied: opentelemetry-util-http==0.48b0 in /Users/alessioborgi/.pyenv/versions/3.11.4/lib/python3.11/site-packages (from opentelemetry-instrumentation-fastapi>=0.41b0->chromadb) (0.48b0)\n",
      "Requirement already satisfied: setuptools>=16.0 in /Users/alessioborgi/.pyenv/versions/3.11.4/lib/python3.11/site-packages (from opentelemetry-instrumentation==0.48b0->opentelemetry-instrumentation-fastapi>=0.41b0->chromadb) (65.5.0)\n",
      "Requirement already satisfied: asgiref~=3.0 in /Users/alessioborgi/.pyenv/versions/3.11.4/lib/python3.11/site-packages (from opentelemetry-instrumentation-asgi==0.48b0->opentelemetry-instrumentation-fastapi>=0.41b0->chromadb) (3.8.1)\n",
      "Requirement already satisfied: monotonic>=1.5 in /Users/alessioborgi/.pyenv/versions/3.11.4/lib/python3.11/site-packages (from posthog>=2.4.0->chromadb) (1.6)\n",
      "Requirement already satisfied: backoff>=1.10.0 in /Users/alessioborgi/.pyenv/versions/3.11.4/lib/python3.11/site-packages (from posthog>=2.4.0->chromadb) (2.2.1)\n",
      "Requirement already satisfied: annotated-types>=0.4.0 in /Users/alessioborgi/.pyenv/versions/3.11.4/lib/python3.11/site-packages (from pydantic>=1.9->chromadb) (0.7.0)\n",
      "Requirement already satisfied: pydantic-core==2.20.1 in /Users/alessioborgi/.pyenv/versions/3.11.4/lib/python3.11/site-packages (from pydantic>=1.9->chromadb) (2.20.1)\n",
      "Requirement already satisfied: huggingface-hub<1.0,>=0.16.4 in /Users/alessioborgi/.pyenv/versions/3.11.4/lib/python3.11/site-packages (from tokenizers>=0.13.2->chromadb) (0.24.6)\n",
      "Requirement already satisfied: shellingham>=1.3.0 in /Users/alessioborgi/.pyenv/versions/3.11.4/lib/python3.11/site-packages (from typer>=0.9.0->chromadb) (1.5.4)\n",
      "Requirement already satisfied: rich>=10.11.0 in /Users/alessioborgi/.pyenv/versions/3.11.4/lib/python3.11/site-packages (from typer>=0.9.0->chromadb) (13.8.0)\n",
      "Requirement already satisfied: httptools>=0.5.0 in /Users/alessioborgi/.pyenv/versions/3.11.4/lib/python3.11/site-packages (from uvicorn[standard]>=0.18.3->chromadb) (0.6.1)\n",
      "Requirement already satisfied: python-dotenv>=0.13 in /Users/alessioborgi/.pyenv/versions/3.11.4/lib/python3.11/site-packages (from uvicorn[standard]>=0.18.3->chromadb) (1.0.1)\n",
      "Requirement already satisfied: uvloop!=0.15.0,!=0.15.1,>=0.14.0 in /Users/alessioborgi/.pyenv/versions/3.11.4/lib/python3.11/site-packages (from uvicorn[standard]>=0.18.3->chromadb) (0.20.0)\n",
      "Requirement already satisfied: watchfiles>=0.13 in /Users/alessioborgi/.pyenv/versions/3.11.4/lib/python3.11/site-packages (from uvicorn[standard]>=0.18.3->chromadb) (0.24.0)\n",
      "Requirement already satisfied: websockets>=10.4 in /Users/alessioborgi/.pyenv/versions/3.11.4/lib/python3.11/site-packages (from uvicorn[standard]>=0.18.3->chromadb) (13.0.1)\n",
      "Requirement already satisfied: aiohappyeyeballs>=2.3.0 in /Users/alessioborgi/.pyenv/versions/3.11.4/lib/python3.11/site-packages (from aiohttp<4.0.0,>=3.8.6->llama-index-core<0.12.0,>=0.11.2->llama_index) (2.4.0)\n",
      "Requirement already satisfied: aiosignal>=1.1.2 in /Users/alessioborgi/.pyenv/versions/3.11.4/lib/python3.11/site-packages (from aiohttp<4.0.0,>=3.8.6->llama-index-core<0.12.0,>=0.11.2->llama_index) (1.3.1)\n",
      "Requirement already satisfied: attrs>=17.3.0 in /Users/alessioborgi/.pyenv/versions/3.11.4/lib/python3.11/site-packages (from aiohttp<4.0.0,>=3.8.6->llama-index-core<0.12.0,>=0.11.2->llama_index) (24.2.0)\n",
      "Requirement already satisfied: frozenlist>=1.1.1 in /Users/alessioborgi/.pyenv/versions/3.11.4/lib/python3.11/site-packages (from aiohttp<4.0.0,>=3.8.6->llama-index-core<0.12.0,>=0.11.2->llama_index) (1.4.1)\n",
      "Requirement already satisfied: multidict<7.0,>=4.5 in /Users/alessioborgi/.pyenv/versions/3.11.4/lib/python3.11/site-packages (from aiohttp<4.0.0,>=3.8.6->llama-index-core<0.12.0,>=0.11.2->llama_index) (6.0.5)\n",
      "Requirement already satisfied: yarl<2.0,>=1.0 in /Users/alessioborgi/.pyenv/versions/3.11.4/lib/python3.11/site-packages (from aiohttp<4.0.0,>=3.8.6->llama-index-core<0.12.0,>=0.11.2->llama_index) (1.9.4)\n",
      "Requirement already satisfied: soupsieve>1.2 in /Users/alessioborgi/.pyenv/versions/3.11.4/lib/python3.11/site-packages (from beautifulsoup4<5.0.0,>=4.12.3->llama-index-readers-file<0.3.0,>=0.2.0->llama_index) (2.6)\n",
      "Requirement already satisfied: cachetools<6.0,>=2.0.0 in /Users/alessioborgi/.pyenv/versions/3.11.4/lib/python3.11/site-packages (from google-auth>=1.0.1->kubernetes>=28.1.0->chromadb) (5.5.0)\n",
      "Requirement already satisfied: pyasn1-modules>=0.2.1 in /Users/alessioborgi/.pyenv/versions/3.11.4/lib/python3.11/site-packages (from google-auth>=1.0.1->kubernetes>=28.1.0->chromadb) (0.4.0)\n",
      "Requirement already satisfied: rsa<5,>=3.1.4 in /Users/alessioborgi/.pyenv/versions/3.11.4/lib/python3.11/site-packages (from google-auth>=1.0.1->kubernetes>=28.1.0->chromadb) (4.9)\n",
      "Requirement already satisfied: filelock in /Users/alessioborgi/.pyenv/versions/3.11.4/lib/python3.11/site-packages (from huggingface-hub<1.0,>=0.16.4->tokenizers>=0.13.2->chromadb) (3.15.4)\n",
      "Requirement already satisfied: zipp>=0.5 in /Users/alessioborgi/.pyenv/versions/3.11.4/lib/python3.11/site-packages (from importlib-metadata<=8.4.0,>=6.0->opentelemetry-api>=1.2.0->chromadb) (3.20.1)\n",
      "Requirement already satisfied: charset-normalizer<4,>=2 in /Users/alessioborgi/.pyenv/versions/3.11.4/lib/python3.11/site-packages (from requests->kubernetes>=28.1.0->chromadb) (3.3.2)\n",
      "Requirement already satisfied: markdown-it-py>=2.2.0 in /Users/alessioborgi/.pyenv/versions/3.11.4/lib/python3.11/site-packages (from rich>=10.11.0->typer>=0.9.0->chromadb) (3.0.0)\n",
      "Requirement already satisfied: pygments<3.0.0,>=2.13.0 in /Users/alessioborgi/.pyenv/versions/3.11.4/lib/python3.11/site-packages (from rich>=10.11.0->typer>=0.9.0->chromadb) (2.17.2)\n",
      "Requirement already satisfied: greenlet!=0.4.17 in /Users/alessioborgi/.pyenv/versions/3.11.4/lib/python3.11/site-packages (from SQLAlchemy[asyncio]>=1.4.49->llama-index-core<0.12.0,>=0.11.2->llama_index) (3.0.3)\n",
      "Requirement already satisfied: mypy-extensions>=0.3.0 in /Users/alessioborgi/.pyenv/versions/3.11.4/lib/python3.11/site-packages (from typing-inspect>=0.8.0->llama-index-core<0.12.0,>=0.11.2->llama_index) (1.0.0)\n",
      "Requirement already satisfied: humanfriendly>=9.1 in /Users/alessioborgi/.pyenv/versions/3.11.4/lib/python3.11/site-packages (from coloredlogs->onnxruntime>=1.14.1->chromadb) (10.0)\n",
      "Requirement already satisfied: marshmallow<4.0.0,>=3.18.0 in /Users/alessioborgi/.pyenv/versions/3.11.4/lib/python3.11/site-packages (from dataclasses-json->llama-index-core<0.12.0,>=0.11.2->llama_index) (3.22.0)\n",
      "Requirement already satisfied: pytz>=2020.1 in /Users/alessioborgi/.pyenv/versions/3.11.4/lib/python3.11/site-packages (from pandas->llama-index-legacy<0.10.0,>=0.9.48->llama_index) (2024.1)\n",
      "Requirement already satisfied: tzdata>=2022.7 in /Users/alessioborgi/.pyenv/versions/3.11.4/lib/python3.11/site-packages (from pandas->llama-index-legacy<0.10.0,>=0.9.48->llama_index) (2024.1)\n",
      "Requirement already satisfied: mpmath<1.4,>=1.1.0 in /Users/alessioborgi/.pyenv/versions/3.11.4/lib/python3.11/site-packages (from sympy->onnxruntime>=1.14.1->chromadb) (1.3.0)\n",
      "Requirement already satisfied: mdurl~=0.1 in /Users/alessioborgi/.pyenv/versions/3.11.4/lib/python3.11/site-packages (from markdown-it-py>=2.2.0->rich>=10.11.0->typer>=0.9.0->chromadb) (0.1.2)\n",
      "Requirement already satisfied: pyasn1<0.7.0,>=0.4.6 in /Users/alessioborgi/.pyenv/versions/3.11.4/lib/python3.11/site-packages (from pyasn1-modules>=0.2.1->google-auth>=1.0.1->kubernetes>=28.1.0->chromadb) (0.6.0)\n",
      "\n",
      "\u001b[1m[\u001b[0m\u001b[34;49mnotice\u001b[0m\u001b[1;39;49m]\u001b[0m\u001b[39;49m A new release of pip is available: \u001b[0m\u001b[31;49m23.1.2\u001b[0m\u001b[39;49m -> \u001b[0m\u001b[32;49m24.2\u001b[0m\n",
      "\u001b[1m[\u001b[0m\u001b[34;49mnotice\u001b[0m\u001b[1;39;49m]\u001b[0m\u001b[39;49m To update, run: \u001b[0m\u001b[32;49mpip install --upgrade pip\u001b[0m\n"
     ]
    }
   ],
   "source": [
    "# !pip install llama_index chroma chromadb openai logging llama-index-experimental\n",
    "# !pip install -r requirements.txt\n"
   ]
  },
  {
   "cell_type": "markdown",
   "id": "f64e67dd",
   "metadata": {},
   "source": [
    "### 0: IMPORTING LIBRARIES\n",
    "Using pre-built class for directory reading."
   ]
  },
  {
   "cell_type": "code",
   "execution_count": 2,
   "id": "645d35eb",
   "metadata": {},
   "outputs": [],
   "source": [
    "import os\n",
    "import sys\n",
    "import logging\n",
    "import chromadb\n",
    "import pandas as pd\n",
    "from IPython.display import Markdown, display\n",
    "\n",
    "from llama_index.core import StorageContext\n",
    "from llama_index.core import Settings\n",
    "from llama_index.core import SimpleDirectoryReader\n",
    "from llama_index.experimental.query_engine import PandasQueryEngine\n",
    "from llama_index.embeddings.openai import OpenAIEmbedding\n"
   ]
  },
  {
   "cell_type": "code",
   "execution_count": 3,
   "id": "02c4cbab",
   "metadata": {},
   "outputs": [],
   "source": [
    "logging.basicConfig(stream=sys.stdout, level=logging.INFO)\n",
    "logging.getLogger().addHandler(logging.StreamHandler(stream=sys.stdout))"
   ]
  },
  {
   "cell_type": "markdown",
   "id": "b4072917-68e5-4f43-acde-840928a58a52",
   "metadata": {},
   "source": [
    "### 1: IMPORTING OPENAPI KEY"
   ]
  },
  {
   "cell_type": "code",
   "execution_count": 5,
   "id": "43c13665-9833-4980-b57c-a4a00e0797d5",
   "metadata": {},
   "outputs": [],
   "source": [
    "\n",
    "# first, load and set openaikey from a txt file I stored it in\n",
    "with open('oaikey.txt') as keyfile:\n",
    "    oaikey = keyfile.read().strip()\n",
    "    \n",
    "os.environ[\"OPENAI_API_KEY\"] = oaikey"
   ]
  },
  {
   "cell_type": "markdown",
   "id": "275cbdeb-4d11-41a0-82ae-7a741849fc35",
   "metadata": {},
   "source": [
    "#### 2: IMPORTING DATASET "
   ]
  },
  {
   "cell_type": "code",
   "execution_count": 6,
   "id": "d9907ae1",
   "metadata": {},
   "outputs": [],
   "source": [
    "df = pd.read_csv(\"./data/outside/outside_7_days_from_23_to_29_August/outside_7_days_from_23_to_29_August.csv\") \n"
   ]
  },
  {
   "cell_type": "code",
   "execution_count": 7,
   "id": "a43bf2c2",
   "metadata": {},
   "outputs": [
    {
     "data": {
      "text/html": [
       "<div>\n",
       "<style scoped>\n",
       "    .dataframe tbody tr th:only-of-type {\n",
       "        vertical-align: middle;\n",
       "    }\n",
       "\n",
       "    .dataframe tbody tr th {\n",
       "        vertical-align: top;\n",
       "    }\n",
       "\n",
       "    .dataframe thead th {\n",
       "        text-align: right;\n",
       "    }\n",
       "</style>\n",
       "<table border=\"1\" class=\"dataframe\">\n",
       "  <thead>\n",
       "    <tr style=\"text-align: right;\">\n",
       "      <th></th>\n",
       "      <th>A4100209</th>\n",
       "      <th>Unnamed: 1</th>\n",
       "      <th>Port1</th>\n",
       "      <th>Port1.1</th>\n",
       "      <th>Port1.2</th>\n",
       "      <th>Port1.3</th>\n",
       "      <th>Port1.4</th>\n",
       "      <th>Port1.5</th>\n",
       "      <th>Port1.6</th>\n",
       "      <th>Port1.7</th>\n",
       "      <th>...</th>\n",
       "      <th>Port1.10</th>\n",
       "      <th>Port1.11</th>\n",
       "      <th>Port1.12</th>\n",
       "      <th>Port1.13</th>\n",
       "      <th>Port1.14</th>\n",
       "      <th>Port1.15</th>\n",
       "      <th>Port1.16</th>\n",
       "      <th>Port2</th>\n",
       "      <th>Port2.1</th>\n",
       "      <th></th>\n",
       "    </tr>\n",
       "  </thead>\n",
       "  <tbody>\n",
       "    <tr>\n",
       "      <th>0</th>\n",
       "      <td># Records: 1954</td>\n",
       "      <td>NaN</td>\n",
       "      <td>ATMOS 41W Sensor Suite</td>\n",
       "      <td>ATMOS 41W Sensor Suite</td>\n",
       "      <td>ATMOS 41W Sensor Suite</td>\n",
       "      <td>ATMOS 41W Sensor Suite</td>\n",
       "      <td>ATMOS 41W Sensor Suite</td>\n",
       "      <td>ATMOS 41W Sensor Suite</td>\n",
       "      <td>ATMOS 41W Sensor Suite</td>\n",
       "      <td>ATMOS 41W Sensor Suite</td>\n",
       "      <td>...</td>\n",
       "      <td>ATMOS 41W Sensor Suite</td>\n",
       "      <td>ATMOS 41W Sensor Suite</td>\n",
       "      <td>ATMOS 41W Sensor Suite</td>\n",
       "      <td>ATMOS 41W Sensor Suite</td>\n",
       "      <td>ATMOS 41W Sensor Suite</td>\n",
       "      <td>ATMOS 41W Sensor Suite</td>\n",
       "      <td>ATMOS 41W Sensor Suite</td>\n",
       "      <td>Battery</td>\n",
       "      <td>Battery</td>\n",
       "      <td></td>\n",
       "    </tr>\n",
       "    <tr>\n",
       "      <th>1</th>\n",
       "      <td>Timestamps</td>\n",
       "      <td>Device RID</td>\n",
       "      <td>raw  Solar Radiation</td>\n",
       "      <td>raw  Precipitation</td>\n",
       "      <td>raw  Drop Counts</td>\n",
       "      <td>raw  Spoon Tips</td>\n",
       "      <td>raw  EC</td>\n",
       "      <td>raw  Wind Direction</td>\n",
       "      <td>raw  Wind Speed</td>\n",
       "      <td>raw  Gust Speed</td>\n",
       "      <td>...</td>\n",
       "      <td>raw  Atmospheric Pressure</td>\n",
       "      <td>raw  Tilt Angle</td>\n",
       "      <td>raw  Min Air Temperature</td>\n",
       "      <td>raw  Max Air Temperature</td>\n",
       "      <td>raw  RH Sensor Temp</td>\n",
       "      <td>raw  Max Precip Rate</td>\n",
       "      <td>raw  VPD</td>\n",
       "      <td>raw  Battery Percent</td>\n",
       "      <td>raw  Battery Voltage</td>\n",
       "      <td>UTC Offset</td>\n",
       "    </tr>\n",
       "    <tr>\n",
       "      <th>2</th>\n",
       "      <td>08/22/2024 07:00:00 PM</td>\n",
       "      <td>65365</td>\n",
       "      <td>1292</td>\n",
       "      <td>0</td>\n",
       "      <td>0</td>\n",
       "      <td>0</td>\n",
       "      <td>0</td>\n",
       "      <td>3349</td>\n",
       "      <td>58</td>\n",
       "      <td>109</td>\n",
       "      <td>...</td>\n",
       "      <td>9808</td>\n",
       "      <td>13</td>\n",
       "      <td>8949</td>\n",
       "      <td>9037</td>\n",
       "      <td>9159</td>\n",
       "      <td>0</td>\n",
       "      <td>1.666744158708596</td>\n",
       "      <td>2100</td>\n",
       "      <td>8233</td>\n",
       "      <td>UTC+02:00</td>\n",
       "    </tr>\n",
       "    <tr>\n",
       "      <th>3</th>\n",
       "      <td>08/22/2024 07:05:00 PM</td>\n",
       "      <td>65366</td>\n",
       "      <td>1433</td>\n",
       "      <td>0</td>\n",
       "      <td>0</td>\n",
       "      <td>0</td>\n",
       "      <td>0</td>\n",
       "      <td>3367</td>\n",
       "      <td>67</td>\n",
       "      <td>123</td>\n",
       "      <td>...</td>\n",
       "      <td>9807</td>\n",
       "      <td>13</td>\n",
       "      <td>8959</td>\n",
       "      <td>9036</td>\n",
       "      <td>9155</td>\n",
       "      <td>0</td>\n",
       "      <td>1.6708343987898313</td>\n",
       "      <td>2100</td>\n",
       "      <td>8229</td>\n",
       "      <td>UTC+02:00</td>\n",
       "    </tr>\n",
       "    <tr>\n",
       "      <th>4</th>\n",
       "      <td>08/22/2024 07:10:00 PM</td>\n",
       "      <td>65367</td>\n",
       "      <td>1183</td>\n",
       "      <td>0</td>\n",
       "      <td>0</td>\n",
       "      <td>0</td>\n",
       "      <td>0</td>\n",
       "      <td>171</td>\n",
       "      <td>73</td>\n",
       "      <td>180</td>\n",
       "      <td>...</td>\n",
       "      <td>9808</td>\n",
       "      <td>13</td>\n",
       "      <td>8950</td>\n",
       "      <td>9038</td>\n",
       "      <td>9149</td>\n",
       "      <td>0</td>\n",
       "      <td>1.6720593817129479</td>\n",
       "      <td>2100</td>\n",
       "      <td>8229</td>\n",
       "      <td>UTC+02:00</td>\n",
       "    </tr>\n",
       "    <tr>\n",
       "      <th>...</th>\n",
       "      <td>...</td>\n",
       "      <td>...</td>\n",
       "      <td>...</td>\n",
       "      <td>...</td>\n",
       "      <td>...</td>\n",
       "      <td>...</td>\n",
       "      <td>...</td>\n",
       "      <td>...</td>\n",
       "      <td>...</td>\n",
       "      <td>...</td>\n",
       "      <td>...</td>\n",
       "      <td>...</td>\n",
       "      <td>...</td>\n",
       "      <td>...</td>\n",
       "      <td>...</td>\n",
       "      <td>...</td>\n",
       "      <td>...</td>\n",
       "      <td>...</td>\n",
       "      <td>...</td>\n",
       "      <td>...</td>\n",
       "      <td>...</td>\n",
       "    </tr>\n",
       "    <tr>\n",
       "      <th>1951</th>\n",
       "      <td>08/29/2024 01:25:00 PM</td>\n",
       "      <td>67321</td>\n",
       "      <td>6792</td>\n",
       "      <td>0</td>\n",
       "      <td>0</td>\n",
       "      <td>0</td>\n",
       "      <td>0</td>\n",
       "      <td>3105</td>\n",
       "      <td>134</td>\n",
       "      <td>287</td>\n",
       "      <td>...</td>\n",
       "      <td>9853</td>\n",
       "      <td>13</td>\n",
       "      <td>9500</td>\n",
       "      <td>9780</td>\n",
       "      <td>9935</td>\n",
       "      <td>0</td>\n",
       "      <td>2.3099657482349034</td>\n",
       "      <td>2100</td>\n",
       "      <td>8220</td>\n",
       "      <td>UTC+02:00</td>\n",
       "    </tr>\n",
       "    <tr>\n",
       "      <th>1952</th>\n",
       "      <td>08/29/2024 01:30:00 PM</td>\n",
       "      <td>67322</td>\n",
       "      <td>6791</td>\n",
       "      <td>0</td>\n",
       "      <td>0</td>\n",
       "      <td>0</td>\n",
       "      <td>0</td>\n",
       "      <td>3235</td>\n",
       "      <td>106</td>\n",
       "      <td>275</td>\n",
       "      <td>...</td>\n",
       "      <td>9853</td>\n",
       "      <td>12</td>\n",
       "      <td>9564</td>\n",
       "      <td>9770</td>\n",
       "      <td>9951</td>\n",
       "      <td>0</td>\n",
       "      <td>2.346579152453595</td>\n",
       "      <td>2100</td>\n",
       "      <td>8223</td>\n",
       "      <td>UTC+02:00</td>\n",
       "    </tr>\n",
       "    <tr>\n",
       "      <th>1953</th>\n",
       "      <td>08/29/2024 01:35:00 PM</td>\n",
       "      <td>67323</td>\n",
       "      <td>6787</td>\n",
       "      <td>0</td>\n",
       "      <td>0</td>\n",
       "      <td>0</td>\n",
       "      <td>0</td>\n",
       "      <td>3174</td>\n",
       "      <td>156</td>\n",
       "      <td>325</td>\n",
       "      <td>...</td>\n",
       "      <td>9853</td>\n",
       "      <td>13</td>\n",
       "      <td>9574</td>\n",
       "      <td>9745</td>\n",
       "      <td>9966</td>\n",
       "      <td>0</td>\n",
       "      <td>2.303514337544168</td>\n",
       "      <td>2100</td>\n",
       "      <td>8224</td>\n",
       "      <td>UTC+02:00</td>\n",
       "    </tr>\n",
       "    <tr>\n",
       "      <th>1954</th>\n",
       "      <td>08/29/2024 01:40:00 PM</td>\n",
       "      <td>67324</td>\n",
       "      <td>6786</td>\n",
       "      <td>0</td>\n",
       "      <td>0</td>\n",
       "      <td>0</td>\n",
       "      <td>0</td>\n",
       "      <td>3201</td>\n",
       "      <td>136</td>\n",
       "      <td>316</td>\n",
       "      <td>...</td>\n",
       "      <td>9853</td>\n",
       "      <td>13</td>\n",
       "      <td>9583</td>\n",
       "      <td>9741</td>\n",
       "      <td>9974</td>\n",
       "      <td>0</td>\n",
       "      <td>2.299331858615904</td>\n",
       "      <td>2100</td>\n",
       "      <td>8226</td>\n",
       "      <td>UTC+02:00</td>\n",
       "    </tr>\n",
       "    <tr>\n",
       "      <th>1955</th>\n",
       "      <td>08/29/2024 01:45:00 PM</td>\n",
       "      <td>67325</td>\n",
       "      <td>6928</td>\n",
       "      <td>0</td>\n",
       "      <td>0</td>\n",
       "      <td>0</td>\n",
       "      <td>0</td>\n",
       "      <td>3150</td>\n",
       "      <td>134</td>\n",
       "      <td>413</td>\n",
       "      <td>...</td>\n",
       "      <td>9852</td>\n",
       "      <td>12</td>\n",
       "      <td>9611</td>\n",
       "      <td>9754</td>\n",
       "      <td>9980</td>\n",
       "      <td>0</td>\n",
       "      <td>2.369571109109589</td>\n",
       "      <td>2100</td>\n",
       "      <td>8227</td>\n",
       "      <td>UTC+02:00</td>\n",
       "    </tr>\n",
       "  </tbody>\n",
       "</table>\n",
       "<p>1956 rows × 22 columns</p>\n",
       "</div>"
      ],
      "text/plain": [
       "                    A4100209  Unnamed: 1                   Port1  \\\n",
       "0            # Records: 1954         NaN  ATMOS 41W Sensor Suite   \n",
       "1                 Timestamps  Device RID    raw  Solar Radiation   \n",
       "2     08/22/2024 07:00:00 PM       65365                    1292   \n",
       "3     08/22/2024 07:05:00 PM       65366                    1433   \n",
       "4     08/22/2024 07:10:00 PM       65367                    1183   \n",
       "...                      ...         ...                     ...   \n",
       "1951  08/29/2024 01:25:00 PM       67321                    6792   \n",
       "1952  08/29/2024 01:30:00 PM       67322                    6791   \n",
       "1953  08/29/2024 01:35:00 PM       67323                    6787   \n",
       "1954  08/29/2024 01:40:00 PM       67324                    6786   \n",
       "1955  08/29/2024 01:45:00 PM       67325                    6928   \n",
       "\n",
       "                     Port1.1                 Port1.2                 Port1.3  \\\n",
       "0     ATMOS 41W Sensor Suite  ATMOS 41W Sensor Suite  ATMOS 41W Sensor Suite   \n",
       "1         raw  Precipitation        raw  Drop Counts         raw  Spoon Tips   \n",
       "2                          0                       0                       0   \n",
       "3                          0                       0                       0   \n",
       "4                          0                       0                       0   \n",
       "...                      ...                     ...                     ...   \n",
       "1951                       0                       0                       0   \n",
       "1952                       0                       0                       0   \n",
       "1953                       0                       0                       0   \n",
       "1954                       0                       0                       0   \n",
       "1955                       0                       0                       0   \n",
       "\n",
       "                     Port1.4                 Port1.5                 Port1.6  \\\n",
       "0     ATMOS 41W Sensor Suite  ATMOS 41W Sensor Suite  ATMOS 41W Sensor Suite   \n",
       "1                    raw  EC     raw  Wind Direction         raw  Wind Speed   \n",
       "2                          0                    3349                      58   \n",
       "3                          0                    3367                      67   \n",
       "4                          0                     171                      73   \n",
       "...                      ...                     ...                     ...   \n",
       "1951                       0                    3105                     134   \n",
       "1952                       0                    3235                     106   \n",
       "1953                       0                    3174                     156   \n",
       "1954                       0                    3201                     136   \n",
       "1955                       0                    3150                     134   \n",
       "\n",
       "                     Port1.7  ...                   Port1.10  \\\n",
       "0     ATMOS 41W Sensor Suite  ...     ATMOS 41W Sensor Suite   \n",
       "1            raw  Gust Speed  ...  raw  Atmospheric Pressure   \n",
       "2                        109  ...                       9808   \n",
       "3                        123  ...                       9807   \n",
       "4                        180  ...                       9808   \n",
       "...                      ...  ...                        ...   \n",
       "1951                     287  ...                       9853   \n",
       "1952                     275  ...                       9853   \n",
       "1953                     325  ...                       9853   \n",
       "1954                     316  ...                       9853   \n",
       "1955                     413  ...                       9852   \n",
       "\n",
       "                    Port1.11                  Port1.12  \\\n",
       "0     ATMOS 41W Sensor Suite    ATMOS 41W Sensor Suite   \n",
       "1            raw  Tilt Angle  raw  Min Air Temperature   \n",
       "2                         13                      8949   \n",
       "3                         13                      8959   \n",
       "4                         13                      8950   \n",
       "...                      ...                       ...   \n",
       "1951                      13                      9500   \n",
       "1952                      12                      9564   \n",
       "1953                      13                      9574   \n",
       "1954                      13                      9583   \n",
       "1955                      12                      9611   \n",
       "\n",
       "                      Port1.13                Port1.14  \\\n",
       "0       ATMOS 41W Sensor Suite  ATMOS 41W Sensor Suite   \n",
       "1     raw  Max Air Temperature     raw  RH Sensor Temp   \n",
       "2                         9037                    9159   \n",
       "3                         9036                    9155   \n",
       "4                         9038                    9149   \n",
       "...                        ...                     ...   \n",
       "1951                      9780                    9935   \n",
       "1952                      9770                    9951   \n",
       "1953                      9745                    9966   \n",
       "1954                      9741                    9974   \n",
       "1955                      9754                    9980   \n",
       "\n",
       "                    Port1.15                Port1.16                 Port2  \\\n",
       "0     ATMOS 41W Sensor Suite  ATMOS 41W Sensor Suite               Battery   \n",
       "1       raw  Max Precip Rate                raw  VPD  raw  Battery Percent   \n",
       "2                          0       1.666744158708596                  2100   \n",
       "3                          0      1.6708343987898313                  2100   \n",
       "4                          0      1.6720593817129479                  2100   \n",
       "...                      ...                     ...                   ...   \n",
       "1951                       0      2.3099657482349034                  2100   \n",
       "1952                       0       2.346579152453595                  2100   \n",
       "1953                       0       2.303514337544168                  2100   \n",
       "1954                       0       2.299331858615904                  2100   \n",
       "1955                       0       2.369571109109589                  2100   \n",
       "\n",
       "                   Port2.1              \n",
       "0                  Battery              \n",
       "1     raw  Battery Voltage  UTC Offset  \n",
       "2                     8233   UTC+02:00  \n",
       "3                     8229   UTC+02:00  \n",
       "4                     8229   UTC+02:00  \n",
       "...                    ...         ...  \n",
       "1951                  8220   UTC+02:00  \n",
       "1952                  8223   UTC+02:00  \n",
       "1953                  8224   UTC+02:00  \n",
       "1954                  8226   UTC+02:00  \n",
       "1955                  8227   UTC+02:00  \n",
       "\n",
       "[1956 rows x 22 columns]"
      ]
     },
     "execution_count": 7,
     "metadata": {},
     "output_type": "execute_result"
    }
   ],
   "source": [
    "df"
   ]
  },
  {
   "cell_type": "code",
   "execution_count": null,
   "id": "69c79007",
   "metadata": {},
   "outputs": [],
   "source": [
    "# agents of tours"
   ]
  },
  {
   "cell_type": "markdown",
   "id": "b60167ff",
   "metadata": {},
   "source": [
    "### 3: BUILDING PANDAS QUERY ENGINE"
   ]
  },
  {
   "cell_type": "code",
   "execution_count": 8,
   "id": "21e0c84d",
   "metadata": {},
   "outputs": [],
   "source": [
    "query_engine = PandasQueryEngine(df=df, verbose=True)\n"
   ]
  },
  {
   "cell_type": "markdown",
   "id": "b78f2267",
   "metadata": {},
   "source": [
    "### 4: QUERYING THE DATA"
   ]
  },
  {
   "cell_type": "code",
   "execution_count": 9,
   "id": "21917b92-e1f0-4599-b831-e850ccbf9f9e",
   "metadata": {},
   "outputs": [
    {
     "name": "stdout",
     "output_type": "stream",
     "text": [
      "INFO:httpx:HTTP Request: POST https://api.openai.com/v1/chat/completions \"HTTP/1.1 200 OK\"\n",
      "HTTP Request: POST https://api.openai.com/v1/chat/completions \"HTTP/1.1 200 OK\"\n",
      "> Pandas Instructions:\n",
      "```\n",
      "df.iloc[2:, 10].astype(float).mean()\n",
      "```\n",
      "> Pandas Output: 8727.226714431934\n"
     ]
    }
   ],
   "source": [
    "response = query_engine.query(\n",
    "    \"Please provide me the average raw Atmospheric Pressure during last day\",\n",
    ")"
   ]
  },
  {
   "cell_type": "code",
   "execution_count": 10,
   "id": "2884bc4b",
   "metadata": {},
   "outputs": [
    {
     "name": "stdout",
     "output_type": "stream",
     "text": [
      "INFO:httpx:HTTP Request: POST https://api.openai.com/v1/chat/completions \"HTTP/1.1 200 OK\"\n",
      "HTTP Request: POST https://api.openai.com/v1/chat/completions \"HTTP/1.1 200 OK\"\n",
      "> Pandas Instructions:\n",
      "```\n",
      "df.iloc[2:, 10].astype(int)\n",
      "```\n",
      "> Pandas Output: 2       8985\n",
      "3       9001\n",
      "4       8999\n",
      "5       8978\n",
      "6       8959\n",
      "        ... \n",
      "1951    9657\n",
      "1952    9678\n",
      "1953    9661\n",
      "1954    9656\n",
      "1955    9681\n",
      "Name: Port1.8, Length: 1954, dtype: int64\n"
     ]
    }
   ],
   "source": [
    "response = query_engine.query(\n",
    "    \"Please provide the raw Atmospheric Pressure values in the last two days.\",\n",
    ")"
   ]
  },
  {
   "cell_type": "code",
   "execution_count": 11,
   "id": "90415bd4",
   "metadata": {},
   "outputs": [
    {
     "ename": "ValueError",
     "evalue": "DataFrame constructor not properly called!",
     "output_type": "error",
     "traceback": [
      "\u001b[0;31m---------------------------------------------------------------------------\u001b[0m",
      "\u001b[0;31mValueError\u001b[0m                                Traceback (most recent call last)",
      "\u001b[0;32m/var/folders/mx/xlmhp5ln7l5g33gb6w32s46m0000gn/T/ipykernel_3449/1078193692.py\u001b[0m in \u001b[0;36m?\u001b[0;34m()\u001b[0m\n\u001b[0;32m----> 1\u001b[0;31m \u001b[0mresult_df\u001b[0m \u001b[0;34m=\u001b[0m \u001b[0mpd\u001b[0m\u001b[0;34m.\u001b[0m\u001b[0mDataFrame\u001b[0m\u001b[0;34m(\u001b[0m\u001b[0mresponse\u001b[0m\u001b[0;34m)\u001b[0m\u001b[0;34m\u001b[0m\u001b[0;34m\u001b[0m\u001b[0m\n\u001b[0m\u001b[1;32m      2\u001b[0m \u001b[0mresult_df\u001b[0m\u001b[0;34m\u001b[0m\u001b[0;34m\u001b[0m\u001b[0m\n",
      "\u001b[0;32m~/.pyenv/versions/3.11.4/lib/python3.11/site-packages/pandas/core/frame.py\u001b[0m in \u001b[0;36m?\u001b[0;34m(self, data, index, columns, dtype, copy)\u001b[0m\n\u001b[1;32m    882\u001b[0m                 )\n\u001b[1;32m    883\u001b[0m         \u001b[0;31m# For data is scalar\u001b[0m\u001b[0;34m\u001b[0m\u001b[0;34m\u001b[0m\u001b[0m\n\u001b[1;32m    884\u001b[0m         \u001b[0;32melse\u001b[0m\u001b[0;34m:\u001b[0m\u001b[0;34m\u001b[0m\u001b[0;34m\u001b[0m\u001b[0m\n\u001b[1;32m    885\u001b[0m             \u001b[0;32mif\u001b[0m \u001b[0mindex\u001b[0m \u001b[0;32mis\u001b[0m \u001b[0;32mNone\u001b[0m \u001b[0;32mor\u001b[0m \u001b[0mcolumns\u001b[0m \u001b[0;32mis\u001b[0m \u001b[0;32mNone\u001b[0m\u001b[0;34m:\u001b[0m\u001b[0;34m\u001b[0m\u001b[0;34m\u001b[0m\u001b[0m\n\u001b[0;32m--> 886\u001b[0;31m                 \u001b[0;32mraise\u001b[0m \u001b[0mValueError\u001b[0m\u001b[0;34m(\u001b[0m\u001b[0;34m\"DataFrame constructor not properly called!\"\u001b[0m\u001b[0;34m)\u001b[0m\u001b[0;34m\u001b[0m\u001b[0;34m\u001b[0m\u001b[0m\n\u001b[0m\u001b[1;32m    887\u001b[0m \u001b[0;34m\u001b[0m\u001b[0m\n\u001b[1;32m    888\u001b[0m             \u001b[0mindex\u001b[0m \u001b[0;34m=\u001b[0m \u001b[0mensure_index\u001b[0m\u001b[0;34m(\u001b[0m\u001b[0mindex\u001b[0m\u001b[0;34m)\u001b[0m\u001b[0;34m\u001b[0m\u001b[0;34m\u001b[0m\u001b[0m\n\u001b[1;32m    889\u001b[0m             \u001b[0mcolumns\u001b[0m \u001b[0;34m=\u001b[0m \u001b[0mensure_index\u001b[0m\u001b[0;34m(\u001b[0m\u001b[0mcolumns\u001b[0m\u001b[0;34m)\u001b[0m\u001b[0;34m\u001b[0m\u001b[0;34m\u001b[0m\u001b[0m\n",
      "\u001b[0;31mValueError\u001b[0m: DataFrame constructor not properly called!"
     ]
    }
   ],
   "source": [
    "result_df = pd.DataFrame(response)\n",
    "result_df"
   ]
  },
  {
   "cell_type": "markdown",
   "id": "d3b5d6fa",
   "metadata": {},
   "source": [
    "### STILL NOT TESTED"
   ]
  },
  {
   "cell_type": "code",
   "execution_count": 12,
   "id": "42450fd5",
   "metadata": {},
   "outputs": [
    {
     "data": {
      "text/html": [
       "<div>\n",
       "<style scoped>\n",
       "    .dataframe tbody tr th:only-of-type {\n",
       "        vertical-align: middle;\n",
       "    }\n",
       "\n",
       "    .dataframe tbody tr th {\n",
       "        vertical-align: top;\n",
       "    }\n",
       "\n",
       "    .dataframe thead th {\n",
       "        text-align: right;\n",
       "    }\n",
       "</style>\n",
       "<table border=\"1\" class=\"dataframe\">\n",
       "  <thead>\n",
       "    <tr style=\"text-align: right;\">\n",
       "      <th></th>\n",
       "      <th>oxygen</th>\n",
       "      <th>health</th>\n",
       "      <th>dewpt</th>\n",
       "      <th>no2</th>\n",
       "      <th>h2s</th>\n",
       "      <th>Status</th>\n",
       "      <th>humidity</th>\n",
       "      <th>sound</th>\n",
       "      <th>temperature</th>\n",
       "      <th>sound_max</th>\n",
       "      <th>...</th>\n",
       "      <th>DeviceID</th>\n",
       "      <th>pressure</th>\n",
       "      <th>performance</th>\n",
       "      <th>pm2_5</th>\n",
       "      <th>TypPS</th>\n",
       "      <th>pm1</th>\n",
       "      <th>humidity_abs</th>\n",
       "      <th>timestamp</th>\n",
       "      <th>tvoc</th>\n",
       "      <th>o3</th>\n",
       "    </tr>\n",
       "  </thead>\n",
       "  <tbody>\n",
       "    <tr>\n",
       "      <th>0</th>\n",
       "      <td>[20.713, 1.63]</td>\n",
       "      <td>479</td>\n",
       "      <td>[19.664, 0.84]</td>\n",
       "      <td>[40.64, 18.2]</td>\n",
       "      <td>[8.26, 0.7]</td>\n",
       "      <td>OK</td>\n",
       "      <td>[76.874, 4.99]</td>\n",
       "      <td>[66.84, 2.6]</td>\n",
       "      <td>[23.765, 0.53]</td>\n",
       "      <td>[74.7, 1.9]</td>\n",
       "      <td>...</td>\n",
       "      <td>61c61e378e5095bf25c28a285822f338</td>\n",
       "      <td>[988.6, 1.0]</td>\n",
       "      <td>191</td>\n",
       "      <td>[15.0, 11.4]</td>\n",
       "      <td>1.7</td>\n",
       "      <td>[12.0, 11.0]</td>\n",
       "      <td>[16.577, 0.85]</td>\n",
       "      <td>1725009418000</td>\n",
       "      <td>[577, 87]</td>\n",
       "      <td>[19.13, 6.1]</td>\n",
       "    </tr>\n",
       "    <tr>\n",
       "      <th>1</th>\n",
       "      <td>[20.718, 1.63]</td>\n",
       "      <td>497</td>\n",
       "      <td>[19.626, 0.84]</td>\n",
       "      <td>[36.43, 16.8]</td>\n",
       "      <td>[8.35, 0.7]</td>\n",
       "      <td>OK</td>\n",
       "      <td>[76.598, 4.97]</td>\n",
       "      <td>[71.64, 2.1]</td>\n",
       "      <td>[23.785, 0.53]</td>\n",
       "      <td>[78.1, 1.8]</td>\n",
       "      <td>...</td>\n",
       "      <td>61c61e378e5095bf25c28a285822f338</td>\n",
       "      <td>[988.56, 1.0]</td>\n",
       "      <td>210</td>\n",
       "      <td>[14.1, 11.2]</td>\n",
       "      <td>1.7</td>\n",
       "      <td>[11.5, 11.0]</td>\n",
       "      <td>[16.537, 0.85]</td>\n",
       "      <td>1725009723000</td>\n",
       "      <td>[568, 85]</td>\n",
       "      <td>[18.06, 6.0]</td>\n",
       "    </tr>\n",
       "    <tr>\n",
       "      <th>2</th>\n",
       "      <td>[20.718, 1.63]</td>\n",
       "      <td>497</td>\n",
       "      <td>[19.626, 0.84]</td>\n",
       "      <td>[36.43, 16.8]</td>\n",
       "      <td>[8.35, 0.7]</td>\n",
       "      <td>OK</td>\n",
       "      <td>[76.598, 4.97]</td>\n",
       "      <td>[71.64, 2.1]</td>\n",
       "      <td>[23.785, 0.53]</td>\n",
       "      <td>[78.1, 1.8]</td>\n",
       "      <td>...</td>\n",
       "      <td>61c61e378e5095bf25c28a285822f338</td>\n",
       "      <td>[988.56, 1.0]</td>\n",
       "      <td>210</td>\n",
       "      <td>[14.1, 11.2]</td>\n",
       "      <td>1.7</td>\n",
       "      <td>[11.5, 11.0]</td>\n",
       "      <td>[16.537, 0.85]</td>\n",
       "      <td>1725009723000</td>\n",
       "      <td>[568, 85]</td>\n",
       "      <td>[18.06, 6.0]</td>\n",
       "    </tr>\n",
       "    <tr>\n",
       "      <th>3</th>\n",
       "      <td>[20.721, 1.63]</td>\n",
       "      <td>508</td>\n",
       "      <td>[19.584, 0.84]</td>\n",
       "      <td>[33.37, 15.7]</td>\n",
       "      <td>[8.33, 0.7]</td>\n",
       "      <td>OK</td>\n",
       "      <td>[76.347, 4.95]</td>\n",
       "      <td>[72.37, 2.0]</td>\n",
       "      <td>[23.797, 0.53]</td>\n",
       "      <td>[77.3, 1.8]</td>\n",
       "      <td>...</td>\n",
       "      <td>61c61e378e5095bf25c28a285822f338</td>\n",
       "      <td>[988.5099, 1.0]</td>\n",
       "      <td>222</td>\n",
       "      <td>[13.7, 11.2]</td>\n",
       "      <td>1.7</td>\n",
       "      <td>[11.2, 11.0]</td>\n",
       "      <td>[16.493, 0.85]</td>\n",
       "      <td>1725010020000</td>\n",
       "      <td>[568, 85]</td>\n",
       "      <td>[17.74, 5.9]</td>\n",
       "    </tr>\n",
       "    <tr>\n",
       "      <th>4</th>\n",
       "      <td>[20.725, 1.63]</td>\n",
       "      <td>524</td>\n",
       "      <td>[19.573, 0.84]</td>\n",
       "      <td>[31.61, 15.1]</td>\n",
       "      <td>[8.33, 0.7]</td>\n",
       "      <td>OK</td>\n",
       "      <td>[76.203, 4.94]</td>\n",
       "      <td>[68.63, 2.3]</td>\n",
       "      <td>[23.817, 0.53]</td>\n",
       "      <td>[75.4, 1.9]</td>\n",
       "      <td>...</td>\n",
       "      <td>61c61e378e5095bf25c28a285822f338</td>\n",
       "      <td>[988.46, 1.0]</td>\n",
       "      <td>230</td>\n",
       "      <td>[12.5, 11.1]</td>\n",
       "      <td>1.6</td>\n",
       "      <td>[10.7, 11.0]</td>\n",
       "      <td>[16.481, 0.85]</td>\n",
       "      <td>1725010326000</td>\n",
       "      <td>[582, 87]</td>\n",
       "      <td>[18.15, 6.0]</td>\n",
       "    </tr>\n",
       "  </tbody>\n",
       "</table>\n",
       "<p>5 rows × 23 columns</p>\n",
       "</div>"
      ],
      "text/plain": [
       "           oxygen  health           dewpt            no2          h2s Status  \\\n",
       "0  [20.713, 1.63]     479  [19.664, 0.84]  [40.64, 18.2]  [8.26, 0.7]     OK   \n",
       "1  [20.718, 1.63]     497  [19.626, 0.84]  [36.43, 16.8]  [8.35, 0.7]     OK   \n",
       "2  [20.718, 1.63]     497  [19.626, 0.84]  [36.43, 16.8]  [8.35, 0.7]     OK   \n",
       "3  [20.721, 1.63]     508  [19.584, 0.84]  [33.37, 15.7]  [8.33, 0.7]     OK   \n",
       "4  [20.725, 1.63]     524  [19.573, 0.84]  [31.61, 15.1]  [8.33, 0.7]     OK   \n",
       "\n",
       "         humidity         sound     temperature    sound_max  ...  \\\n",
       "0  [76.874, 4.99]  [66.84, 2.6]  [23.765, 0.53]  [74.7, 1.9]  ...   \n",
       "1  [76.598, 4.97]  [71.64, 2.1]  [23.785, 0.53]  [78.1, 1.8]  ...   \n",
       "2  [76.598, 4.97]  [71.64, 2.1]  [23.785, 0.53]  [78.1, 1.8]  ...   \n",
       "3  [76.347, 4.95]  [72.37, 2.0]  [23.797, 0.53]  [77.3, 1.8]  ...   \n",
       "4  [76.203, 4.94]  [68.63, 2.3]  [23.817, 0.53]  [75.4, 1.9]  ...   \n",
       "\n",
       "                           DeviceID         pressure performance  \\\n",
       "0  61c61e378e5095bf25c28a285822f338     [988.6, 1.0]         191   \n",
       "1  61c61e378e5095bf25c28a285822f338    [988.56, 1.0]         210   \n",
       "2  61c61e378e5095bf25c28a285822f338    [988.56, 1.0]         210   \n",
       "3  61c61e378e5095bf25c28a285822f338  [988.5099, 1.0]         222   \n",
       "4  61c61e378e5095bf25c28a285822f338    [988.46, 1.0]         230   \n",
       "\n",
       "          pm2_5 TypPS           pm1    humidity_abs      timestamp       tvoc  \\\n",
       "0  [15.0, 11.4]   1.7  [12.0, 11.0]  [16.577, 0.85]  1725009418000  [577, 87]   \n",
       "1  [14.1, 11.2]   1.7  [11.5, 11.0]  [16.537, 0.85]  1725009723000  [568, 85]   \n",
       "2  [14.1, 11.2]   1.7  [11.5, 11.0]  [16.537, 0.85]  1725009723000  [568, 85]   \n",
       "3  [13.7, 11.2]   1.7  [11.2, 11.0]  [16.493, 0.85]  1725010020000  [568, 85]   \n",
       "4  [12.5, 11.1]   1.6  [10.7, 11.0]  [16.481, 0.85]  1725010326000  [582, 87]   \n",
       "\n",
       "             o3  \n",
       "0  [19.13, 6.1]  \n",
       "1  [18.06, 6.0]  \n",
       "2  [18.06, 6.0]  \n",
       "3  [17.74, 5.9]  \n",
       "4  [18.15, 6.0]  \n",
       "\n",
       "[5 rows x 23 columns]"
      ]
     },
     "execution_count": 12,
     "metadata": {},
     "output_type": "execute_result"
    }
   ],
   "source": [
    "df = pd.read_csv(\"./MQTT Client/Room MQTT Client/data/airQDORO.csv\") \n",
    "df\n"
   ]
  },
  {
   "cell_type": "code",
   "execution_count": null,
   "id": "48d590e9",
   "metadata": {},
   "outputs": [],
   "source": [
    "query_engine = PandasQueryEngine(df=df, verbose=True)\n",
    "response = query_engine.query(\n",
    "    \"Please provide me the humidity in room DORO during last day\",\n",
    ")"
   ]
  },
  {
   "cell_type": "markdown",
   "id": "d78e1459-9f9a-428d-9589-1125b1994ee9",
   "metadata": {},
   "source": [
    "#### Wrap in LLamaIndex objects for easier handling/compatability"
   ]
  },
  {
   "cell_type": "code",
   "execution_count": null,
   "id": "1a30d68b",
   "metadata": {},
   "outputs": [],
   "source": [
    "documents = SimpleDirectoryReader(\"preprocessed\").load_data()"
   ]
  },
  {
   "cell_type": "code",
   "execution_count": 25,
   "id": "380b782a-b12b-4fdf-b561-87256c3f7af2",
   "metadata": {},
   "outputs": [],
   "source": [
    "# ... basically, we are just specifying the storage to be used as the ChromaDB\n",
    "vector_store = ChromaVectorStore(chroma_collection=chroma_collection)\n",
    "storage_context = StorageContext.from_defaults(vector_store=vector_store)"
   ]
  },
  {
   "cell_type": "markdown",
   "id": "11b0b8c5-afe5-4307-97cc-cf5d56874e28",
   "metadata": {},
   "source": [
    "#### Specify the embedding model "
   ]
  },
  {
   "cell_type": "code",
   "execution_count": 26,
   "id": "23865181",
   "metadata": {},
   "outputs": [],
   "source": [
    "\n",
    "# let's use OpenAI out-of-the box embeddings.\n",
    "embed_model = OpenAIEmbedding(model=\"text-embedding-3-small\")"
   ]
  },
  {
   "cell_type": "markdown",
   "id": "2079f6dd-74e0-4ae9-8b4c-8c09cdd0cbb6",
   "metadata": {},
   "source": [
    "### Start building the database from our config!\n",
    "Note that you could add multiple processing steps here, such as:\n",
    "- Using an [ingestion pipeline](https://docs.llamaindex.ai/en/stable/module_guides/loading/ingestion_pipeline/) for further preprocessing\n",
    "- [modifying chunk size and overlap](https://docs.llamaindex.ai/en/stable/optimizing/basic_strategies/basic_strategies/#chunk-sizes) or introduce specific chunking strategy\n",
    "- and others"
   ]
  },
  {
   "cell_type": "code",
   "execution_count": null,
   "id": "db3023c4-8c2a-415b-b4d9-dc29b4008c73",
   "metadata": {},
   "outputs": [],
   "source": [
    "# You could modify chunk size and overlap like this\n",
    "# Settings.chunk_size = 512\n",
    "# Settings.chunk_overlap = 50"
   ]
  },
  {
   "cell_type": "code",
   "execution_count": 41,
   "id": "0c4a2c61-af88-4cf1-b018-543441f795ee",
   "metadata": {},
   "outputs": [
    {
     "data": {
      "application/vnd.jupyter.widget-view+json": {
       "model_id": "c0beef20cfff4267a20fdccafe4e0579",
       "version_major": 2,
       "version_minor": 0
      },
      "text/plain": [
       "Parsing nodes:   0%|          | 0/41 [00:00<?, ?it/s]"
      ]
     },
     "metadata": {},
     "output_type": "display_data"
    },
    {
     "data": {
      "application/vnd.jupyter.widget-view+json": {
       "model_id": "1b500e063cb747be9c37837b8a4d4237",
       "version_major": 2,
       "version_minor": 0
      },
      "text/plain": [
       "Generating embeddings:   0%|          | 0/65 [00:00<?, ?it/s]"
      ]
     },
     "metadata": {},
     "output_type": "display_data"
    }
   ],
   "source": [
    "from llama_index.core import VectorStoreIndex\n",
    "# now let's build an index for the database using pre-built functionality\n",
    "# - Chunk the documents\n",
    "# - Retrieve embeddings for document chunks\n",
    "# - Create nodes in db based on docs/chunks\n",
    "# - Index database for fast retrieval\n",
    "index = VectorStoreIndex.from_documents(\n",
    "    documents, storage_context=storage_context, embed_model=embed_model,\n",
    "    show_progress=True\n",
    ")"
   ]
  },
  {
   "cell_type": "code",
   "execution_count": 42,
   "id": "5fc8e44f-857a-4beb-a606-6db4570ab0f2",
   "metadata": {},
   "outputs": [],
   "source": [
    "# in case we are loading from disk, uncomment\n",
    "# from llama_index.core import load_index_from_storage\n",
    "# index2 = load_index_from_storage(storage_context)"
   ]
  },
  {
   "cell_type": "markdown",
   "id": "3bd69ab2-b420-4619-bc84-680cbcad4520",
   "metadata": {},
   "source": [
    "#### Test created embedding/chunks\n"
   ]
  },
  {
   "cell_type": "markdown",
   "id": "a4bccc43-56d4-4be0-ba12-983a4d475381",
   "metadata": {},
   "source": [
    "### Specify LLM-Chat interface\n",
    "Now, we want to build the communication between an LLM and our database that resembles our typical RAG setup:\n",
    "![Typical RAG pipeline](RAG_pipeline.png)\n",
    "\n",
    "\n",
    "\n",
    "Using LlamaIndex, this is deceptively easy."
   ]
  },
  {
   "cell_type": "markdown",
   "id": "3fa22855-fb91-43fc-8ed1-8a6f079ae722",
   "metadata": {},
   "source": [
    "#### Specify details about retrieval from vector db"
   ]
  },
  {
   "cell_type": "code",
   "execution_count": 45,
   "id": "eb8ebbaf-0dca-4ef3-9014-6cf12ff03eeb",
   "metadata": {},
   "outputs": [],
   "source": [
    "from llama_index.core.retrievers import VectorIndexRetriever\n",
    "from llama_index.core.query_engine import RetrieverQueryEngine\n",
    "\n",
    "import logging\n",
    "import sys\n",
    "\n",
    "# Let's do some logging\n",
    "logging.basicConfig(stream=sys.stdout, level=logging.DEBUG)\n",
    "logging.getLogger().addHandler(logging.StreamHandler(stream=sys.stdout))"
   ]
  },
  {
   "cell_type": "markdown",
   "id": "1942fa04-2fca-4ada-a3d6-0debe3cc22e6",
   "metadata": {},
   "source": [
    "#### Configure retrieval from VectorDB "
   ]
  },
  {
   "cell_type": "code",
   "execution_count": 46,
   "id": "05262818-6daa-4c83-ad5e-53efc9d38307",
   "metadata": {},
   "outputs": [],
   "source": [
    "# this specifies the details for retrieving the k closest elements to the user query\n",
    "retriever = VectorIndexRetriever(\n",
    "    index=index,\n",
    "    similarity_top_k=5, # how many documents should we consider? Let's do 5\n",
    "    verbose=True\n",
    ")"
   ]
  },
  {
   "cell_type": "markdown",
   "id": "68143899-37d7-493b-a57d-6e4afc382e54",
   "metadata": {},
   "source": [
    "#### Specify the used LLM\n",
    "in this case, we use the OpenAI GPT4o-mini (very performant and cheap)"
   ]
  },
  {
   "cell_type": "code",
   "execution_count": null,
   "id": "6af45f72-606c-4bbb-a1a8-713f8128a5d7",
   "metadata": {},
   "outputs": [],
   "source": [
    "# %pip install llama-index-llms-openai"
   ]
  },
  {
   "cell_type": "code",
   "execution_count": 52,
   "id": "8da2f71e-a769-4b90-9aeb-76b15536498b",
   "metadata": {},
   "outputs": [],
   "source": [
    "from llama_index.llms.openai import OpenAI\n",
    "# this is an OpenAI wrapper for llama_index\n",
    "llm = OpenAI(model=\"gpt-4o-mini\") "
   ]
  },
  {
   "cell_type": "markdown",
   "id": "f8a46ed1-247c-4a28-bffd-77cc289a2ad1",
   "metadata": {},
   "source": [
    "#### Specify the prompt"
   ]
  },
  {
   "cell_type": "markdown",
   "id": "48ac522d-d197-4e8b-b1f2-ca58a84dca27",
   "metadata": {},
   "source": [
    "Do a simple [RAG-prompt](https://docs.llamaindex.ai/en/stable/examples/prompts/prompts_rag/)"
   ]
  },
  {
   "cell_type": "code",
   "execution_count": 59,
   "id": "9f78d284-0fe2-4031-a821-5df8dabf18d3",
   "metadata": {},
   "outputs": [],
   "source": [
    "from llama_index.core import PromptTemplate\n",
    "from llama_index.core import get_response_synthesizer"
   ]
  },
  {
   "cell_type": "code",
   "execution_count": 60,
   "id": "e7bd9400-025d-4f61-9f05-8880fad427cb",
   "metadata": {},
   "outputs": [],
   "source": [
    "# Let's specify a prompt similar to what we have learned earlier\n",
    "custom_query = \"\"\"\n",
    "    You are an information chatbot that informs users about the Interdisciplinary Transformation University Austria (ITU) in Linz, Austria. \n",
    "    \n",
    "    Here is the context information:\n",
    "    ---------------------\n",
    "    {context_str}\n",
    "    ---------------------\n",
    "    Given the context information, this prompt, and no prior knowledge, answer the query. \n",
    "    The answer must be 100 words or less.\n",
    "    \n",
    "    Query: {query_str}\n",
    "    Answer: \"\"\""
   ]
  },
  {
   "cell_type": "code",
   "execution_count": 61,
   "id": "eceffcd3-62e5-44d0-9eb0-22e8810a425e",
   "metadata": {},
   "outputs": [],
   "source": [
    "# this specifies how we utilize the retrieved chunks/text in the response\n",
    "# configure response synthesizer\n",
    "rag_prompt = PromptTemplate(custom_query) # use LLama_index wrapper to create our query\n",
    "\n",
    "# Build response synthesizer:\n",
    "# i.e., object that combines user prompt, retrieved context, and our RAG prompt and sends it to the LLM (GPT-4o-mini)\n",
    "response_synthesizer = get_response_synthesizer(\n",
    "    llm=llm, text_qa_template=rag_prompt, verbose=True)"
   ]
  },
  {
   "cell_type": "markdown",
   "id": "577e0ee7-a889-4efa-aa0a-69a71edd246d",
   "metadata": {},
   "source": [
    "#### \"Assemble\" query engine \n",
    "Combine other config into the actual logic that will do the querying for us.\n",
    "\n",
    "Again, we will stick to the basics here.\n"
   ]
  },
  {
   "cell_type": "code",
   "execution_count": 63,
   "id": "3325fc02-6de5-4104-b295-1a665a146d3c",
   "metadata": {},
   "outputs": [],
   "source": [
    "from llama_index.core.query_engine import RetrieverQueryEngine\n",
    "#node_postprocessors=[SimilarityPostprocessor(similarity_cutoff=0.7)],\n",
    "\n",
    "# assemble query engine\n",
    "query_engine = RetrieverQueryEngine(\n",
    "    retriever=retriever, # configuration for retrieval of vector chunks\n",
    "    response_synthesizer=response_synthesizer, # config for synthesizing LLM prompt/response\n",
    ")"
   ]
  },
  {
   "cell_type": "markdown",
   "id": "7693a72d-fcaa-40ab-8c86-38cc8425ba7b",
   "metadata": {},
   "source": [
    "#### Let's prompt away!"
   ]
  },
  {
   "cell_type": "code",
   "execution_count": 68,
   "id": "18163ca0-333b-4607-9172-e7e9fa93e833",
   "metadata": {},
   "outputs": [],
   "source": [
    "oai_response = query_engine.query('Who is the founding president?')"
   ]
  },
  {
   "cell_type": "code",
   "execution_count": 88,
   "id": "59efd5c5-abee-4c24-921b-bab75f31e764",
   "metadata": {},
   "outputs": [
    {
     "data": {
      "text/plain": [
       "'The Founding President of the Interdisciplinary Transformation University Austria (ITU) is Prof. Dr. Stefanie Lindstaedt.'"
      ]
     },
     "execution_count": 88,
     "metadata": {},
     "output_type": "execute_result"
    }
   ],
   "source": [
    "oai_response.response"
   ]
  },
  {
   "cell_type": "code",
   "execution_count": 125,
   "id": "6af81473-767c-4d06-8792-197b25cdc1c2",
   "metadata": {},
   "outputs": [
    {
     "data": {
      "text/plain": [
       "{'542fde3f-28d1-4690-a8a9-dd7722665809': {'file_path': '/home/jovyan/work/preprocessed/en_public-notice_provisional-bylaws-of-itu-idsa.txt',\n",
       "  'file_name': 'en_public-notice_provisional-bylaws-of-itu-idsa.txt',\n",
       "  'file_type': 'text/plain',\n",
       "  'file_size': 36144,\n",
       "  'creation_date': '2024-08-26',\n",
       "  'last_modified_date': '2024-08-26'},\n",
       " '2b55da0d-4516-441d-bc60-44fb958bd8c3': {'file_path': '/home/jovyan/work/preprocessed/en_digital-transformation-university_organization.txt',\n",
       "  'file_name': 'en_digital-transformation-university_organization.txt',\n",
       "  'file_type': 'text/plain',\n",
       "  'file_size': 2374,\n",
       "  'creation_date': '2024-08-26',\n",
       "  'last_modified_date': '2024-08-26'},\n",
       " '81983a30-d6ca-4fce-a39b-6b0ae3c756c5': {'file_path': '/home/jovyan/work/preprocessed/en_public-notice_provisional-bylaws-of-itu-idsa.txt',\n",
       "  'file_name': 'en_public-notice_provisional-bylaws-of-itu-idsa.txt',\n",
       "  'file_type': 'text/plain',\n",
       "  'file_size': 36144,\n",
       "  'creation_date': '2024-08-26',\n",
       "  'last_modified_date': '2024-08-26'}}"
      ]
     },
     "execution_count": 125,
     "metadata": {},
     "output_type": "execute_result"
    }
   ],
   "source": [
    "# which files were used as context information? \n",
    "oai_response.metadata"
   ]
  },
  {
   "cell_type": "code",
   "execution_count": 126,
   "id": "54fff3f7-f1f4-4aba-8798-63ab83191268",
   "metadata": {},
   "outputs": [
    {
     "name": "stdout",
     "output_type": "stream",
     "text": [
      "Gathered information from 3 text chunks, for example:\n",
      "Node ID: 2b55da0d-4516-441d-bc60-44fb958bd8c3\n",
      "Document: en_digital-transformation-university_organization.txt\n",
      "Text:\n",
      ":study:careerhome : about : organization\n",
      "© Felix Büchele - IT:U:organization© Lunghammer – TU GrazDipl.-Ing.in Claudia von der Linden, MBA (IMD)Chairwoman of the Founding Convent© Antje Wolm – IT:UProf. Dr.in Stefanie LindstaedtFounding President© Felix Büchele – IT:UGabriele Költringer, EMBAManaging Directorinternational strategic advisory boardfounding conventfounding presidentfounding advisory boardmanaging directorFounding ConventThe Founding Convent is the strategic body of the university during the founding phase. Two of its members were nominated by the province of Upper Austria, three by the Federal Ministry of Education, Science and Research (BMBWF), two by the Federal Ministry for Climate Protection, Environment, Energy, Mobility, Innovation and Technology (BMK), one by the Austrian Science Fund (FWF) and one by the Austrian Research Promotion Agency (FFG).Chairman:Dipl.-Ing.in Claudia von der Linden, MBA (IMD)  Vice-Chairmen: Dr.in Christina Rami-Mark Univ.-Prof. Dipl.-Ing. Dr. Martin HitzMembers:Prof. Dipl.-Ing. Dr.Dr.h.c. Wilfried Eichlseder, (BMBWF)Prof. Dr. Dieter Kranzlmüller, (FWF)Dipl.-Ing. Christopher Lindinger, MAS (BMK)Dipl.-Ing.in Katja Schechtner, MSc (BMK)Dr. Wolfgang Steiner, (Land Oberösterreich)PresidentThe founding president leads and represents the university externally.Managing DirectorThe Managing Director is responsible for the development and management of the administrative area.Founding Advisory BoardThe Founding Advisory Board supports the university, particularly in the development of research priorities and the range of study programs. The rectorates of the University of Linz, the University of Art and Industrial Design Linz, the three technical universities, TU Wien, TU Graz and Montanuniversität Leoben, the University of Applied Sciences Upper Austria and the ÖH have each nominated one member to the advisory board.International Strategic Advisory Board (ISAB)The International Strategic Advisory Board advises the Founding Convent and Founding President on current strategic scientific issues, particularly with regards to setting the strategic course and positioning of the university as well as setting fundamental priorities in research and teaching. In addition, the ISAB provides support with calls for applications, searches, and appointments of professors.:public notice\n"
     ]
    }
   ],
   "source": [
    "# some more details\n",
    "example_node_id = oai_response.source_nodes[1].node_id\n",
    "\n",
    "print(f'Gathered information from {len(oai_response.source_nodes)} text chunks, for example:\\n'\n",
    "      f'Node ID: {example_node_id}\\n'\n",
    "      f'Document: {oai_response.metadata[example_node_id][\"file_name\"]}\\n'\n",
    "      f'Text:\\n{oai_response.source_nodes[1].text}')"
   ]
  },
  {
   "cell_type": "markdown",
   "id": "93c7521b-7b6a-4abd-a10d-bca7ba04b207",
   "metadata": {},
   "source": [
    "#### Some other queries"
   ]
  },
  {
   "cell_type": "code",
   "execution_count": 69,
   "id": "f38c9c17-9c79-4f32-8969-f3c81242185d",
   "metadata": {},
   "outputs": [],
   "source": [
    "oai_response2 = query_engine.query('Is there a summer school?')"
   ]
  },
  {
   "cell_type": "code",
   "execution_count": 86,
   "id": "8f813ca5-702c-43ff-9151-bedf927ef9c9",
   "metadata": {},
   "outputs": [
    {
     "data": {
      "text/plain": [
       "\"Yes, the Interdisciplinary Transformation University Austria (ITU) is hosting a Summer School in 2024, which has attracted over 200 applicants from 66 countries. The program emphasizes interdisciplinary collaboration and diverse academic backgrounds, with approximately 40 participants expected to be selected for this unique learning opportunity. The review committee is currently evaluating applications, and updates on the selection process will be provided as preparations continue. For more information, you can check the university's website.\""
      ]
     },
     "execution_count": 86,
     "metadata": {},
     "output_type": "execute_result"
    }
   ],
   "source": [
    "oai_response2.response"
   ]
  },
  {
   "cell_type": "code",
   "execution_count": 82,
   "id": "5c6de625-2b91-42d4-a0b6-04501c2b48bb",
   "metadata": {},
   "outputs": [],
   "source": [
    "oai_response3 = query_engine.query('Are they hiring?')"
   ]
  },
  {
   "cell_type": "code",
   "execution_count": 128,
   "id": "11c49e1f-24a8-4ec9-8a99-7044ce6d19c3",
   "metadata": {},
   "outputs": [
    {
     "data": {
      "text/plain": [
       "'Yes, the Interdisciplinary Transformation University Austria (ITU) is currently hiring. They have up to 12 postdoctoral positions available in the field of Computational X, as well as openings for a LMS Administrator – Full Stack Developer, Content Creator, Financial Controller, Project Controller, and Software Developer. Interested candidates can apply online and are encouraged to submit their applications, including a CV and cover letter. The application deadline for the postdoctoral positions is September 15th, 2024.'"
      ]
     },
     "execution_count": 128,
     "metadata": {},
     "output_type": "execute_result"
    }
   ],
   "source": [
    "oai_response3.response"
   ]
  }
 ],
 "metadata": {
  "kernelspec": {
   "display_name": "Python 3 (ipykernel)",
   "language": "python",
   "name": "python3"
  },
  "language_info": {
   "codemirror_mode": {
    "name": "ipython",
    "version": 3
   },
   "file_extension": ".py",
   "mimetype": "text/x-python",
   "name": "python",
   "nbconvert_exporter": "python",
   "pygments_lexer": "ipython3",
   "version": "3.11.5"
  }
 },
 "nbformat": 4,
 "nbformat_minor": 5
}
